{
 "cells": [
  {
   "cell_type": "code",
   "execution_count": null,
   "metadata": {},
   "outputs": [],
   "source": [
    "! pip install pandas\n",
    "! pip install scikit-learn"
   ]
  },
  {
   "cell_type": "code",
   "execution_count": null,
   "metadata": {},
   "outputs": [],
   "source": [
    "# Section for imports\n",
    "\n",
    "import pandas as pd\n",
    "import sys\n",
    "from sklearn.feature_extraction.text import TfidfVectorizer\n",
    "from sklearn.metrics.pairwise import cosine_similarity"
   ]
  },
  {
   "cell_type": "code",
   "execution_count": null,
   "metadata": {},
   "outputs": [],
   "source": [
    "def load_data(filepath):\n",
    "    \"\"\"\n",
    "    Load the movie dataset from a CSV file.\n",
    "    \"\"\"\n",
    "    try:\n",
    "        data = pd.read_csv(filepath)\n",
    "    except Exception as e:\n",
    "        sys.exit(f\"Error loading {filepath}: {e}\")\n",
    "    return data"
   ]
  },
  {
   "cell_type": "code",
   "execution_count": null,
   "metadata": {},
   "outputs": [],
   "source": [
    "def build_tfidf(corpus):\n",
    "    \"\"\"\n",
    "    Build the vectorizer from the Corpus\n",
    "    \"\"\"\n",
    "    vectorizer = TfidfVectorizer(stop_words='english')\n",
    "    tfidf_matrix = vectorizer.fit_transform(corpus)\n",
    "    return vectorizer, tfidf_matrix"
   ]
  },
  {
   "cell_type": "code",
   "execution_count": null,
   "metadata": {},
   "outputs": [],
   "source": [
    "def get_recommendations(user_input, vectorizer, tfidf_matrix, data, top_n=5):\n",
    "    \"\"\"\n",
    "    Given a user's input, compute cosine similarities and return the top_n most similar movies.\n",
    "    \"\"\"\n",
    "    user_tfidf = vectorizer.transform([user_input])\n",
    "    cosine_sim = cosine_similarity(user_tfidf, tfidf_matrix).flatten()\n",
    "    top_indices = cosine_sim.argsort()[-top_n:][::-1]\n",
    "    recommendations = data.iloc[top_indices].copy()\n",
    "    recommendations['similarity'] = cosine_sim[top_indices]\n",
    "    return recommendations "
   ]
  },
  {
   "cell_type": "code",
   "execution_count": null,
   "metadata": {},
   "outputs": [],
   "source": [
    "\n",
    "def run(query, csv_path='movies.csv'):\n",
    "    \n",
    "\n",
    "    data = load_data(csv_path)\n",
    "    data['genres'] = data['genres'].str.replace('|', ' ')\n",
    "    \n",
    "    vectorizer, tfidf_matrix = build_tfidf(data['genres'])\n",
    "    recommendations = get_recommendations(query, vectorizer, tfidf_matrix, data)\n",
    "    \n",
    "    \n",
    "    print(\"\\nTop recommendations based on query:\")\n",
    "    print(recommendations.columns)\n",
    "    print(recommendations[['title', 'genres', 'similarity']].to_string(index=False))"
   ]
  },
  {
   "cell_type": "code",
   "execution_count": null,
   "metadata": {},
   "outputs": [],
   "source": [
    "query = \"I love action movies\"\n",
    "run(query)"
   ]
  }
 ],
 "metadata": {
  "kernelspec": {
   "display_name": "Python 3",
   "language": "python",
   "name": "python3"
  },
  "language_info": {
   "codemirror_mode": {
    "name": "ipython",
    "version": 3
   },
   "file_extension": ".py",
   "mimetype": "text/x-python",
   "name": "python",
   "nbconvert_exporter": "python",
   "pygments_lexer": "ipython3",
   "version": "3.11.5"
  },
  "orig_nbformat": 4
 },
 "nbformat": 4,
 "nbformat_minor": 2
}
